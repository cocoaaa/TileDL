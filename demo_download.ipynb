{
 "cells": [
  {
   "cell_type": "markdown",
   "metadata": {},
   "source": [
    "# Download Esri Imageries that covers the Region of Interest (ROI)\n",
    "- ROI is specified as a bounding box in lat, long\n",
    "\n",
    "## Changelog\n",
    "- Update: 2022/09/29\n"
   ]
  },
  {
   "cell_type": "code",
   "execution_count": 1,
   "metadata": {},
   "outputs": [],
   "source": [
    "%reload_ext autoreload\n",
    "%autoreload 2\n",
    "%matplotlib inline"
   ]
  },
  {
   "cell_type": "markdown",
   "metadata": {},
   "source": [
    "## Option1: use command line\n",
    "\n"
   ]
  },
  {
   "cell_type": "markdown",
   "metadata": {},
   "source": [
    "- ./latlngs.json is the filepath to the json file that contains the boundingbox of your region to download all maptiles covering the region.\n",
    "- ./outs is the output directory to store the retrieved maptiles. (will be created if not existing already)\n",
    "- See more details on arguments for downloader.py: python downloader.py -h\n",
    "- See all tileservers and styles we support in `tile_servers.py'\n"
   ]
  },
  {
   "cell_type": "markdown",
   "metadata": {},
   "source": [
    "```python\n",
    "python downloader.py ./latlngs.json  -ts 'esri' -s 'imagery' -o './outs' \n",
    "```"
   ]
  },
  {
   "cell_type": "markdown",
   "metadata": {},
   "source": [
    "## Option2: run the function below in python script or in a jupyter notebook\n",
    "\n"
   ]
  },
  {
   "cell_type": "code",
   "execution_count": 2,
   "metadata": {},
   "outputs": [],
   "source": [
    "from downloader import download_tiles_by_lnglat_esri"
   ]
  },
  {
   "cell_type": "code",
   "execution_count": null,
   "metadata": {},
   "outputs": [],
   "source": [
    "out_dir = './outs'\n",
    "xmin, xmax, ymin, ymax = 52.0100, 52.0500, -1.0000, -0.9500\n",
    "z = 16\n",
    "# lat is horizontal (xaxis), lat is vertical (yaxis)\n",
    "download_tiles_by_lnglat_esri(out_dir=out_dir,\n",
    "                              start_long=ymin, end_long=ymax,\n",
    "                            start_lat=xmin, end_lat=xmax,\n",
    "                              zoom=z)"
   ]
  },
  {
   "cell_type": "code",
   "execution_count": null,
   "metadata": {},
   "outputs": [],
   "source": []
  }
 ],
 "metadata": {
  "kernelspec": {
   "display_name": "Python 3.8.12 ('test')",
   "language": "python",
   "name": "python3"
  },
  "language_info": {
   "codemirror_mode": {
    "name": "ipython",
    "version": 3
   },
   "file_extension": ".py",
   "mimetype": "text/x-python",
   "name": "python",
   "nbconvert_exporter": "python",
   "pygments_lexer": "ipython3",
   "version": "3.8.12"
  },
  "orig_nbformat": 4,
  "vscode": {
   "interpreter": {
    "hash": "35eb322ddd914d4879943f0c0174af0b5fdfdda96c569f504d55625ba718a0cc"
   }
  }
 },
 "nbformat": 4,
 "nbformat_minor": 2
}
